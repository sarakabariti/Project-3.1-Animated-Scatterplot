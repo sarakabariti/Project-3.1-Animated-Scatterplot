{
 "cells": [
  {
   "cell_type": "markdown",
   "id": "d79b6aa7",
   "metadata": {},
   "source": [
    "# Project 3.1: Animated Scatterplot\n",
    "## Life Expectancy Animation\n",
    "In this Step, you will create an animated scatterplot on global demography similar to the one in a famous talk by Hans Rosling.\n",
    "- FREE DATA FROM WORLD BANK VIA GAPMINDER.ORG, CC-BY LICENSE"
   ]
  },
  {
   "cell_type": "markdown",
   "id": "f1666ab1",
   "metadata": {},
   "source": [
    "### Step 2\n",
    "Load all three tables. Make sure the data is correct:\n",
    "\n",
    "- inspect the dimensions you should have 200+ rows and 60+ columns.\n",
    "- make sure the country names are in the row index\n",
    "- make sure the years are in the column index\n",
    "- use df.columns to check whether the column index consists of strings or integers (both are ok but you need to know)"
   ]
  },
  {
   "cell_type": "code",
   "execution_count": 109,
   "id": "194e3dc1",
   "metadata": {},
   "outputs": [],
   "source": [
    "# import libraries\n",
    "import pandas as pd\n",
    "import matplotlib.pyplot as plt\n",
    "import seaborn as sns\n",
    "import numpy as np"
   ]
  },
  {
   "cell_type": "code",
   "execution_count": 110,
   "id": "2f597e0d",
   "metadata": {},
   "outputs": [
    {
     "name": "stdout",
     "output_type": "stream",
     "text": [
      "                  country  1800  1801  1802  1803  1804  1805  1806  1807  \\\n",
      "0             Afghanistan  28.2  28.2  28.2  28.2  28.2  28.2  28.1  28.1   \n",
      "1                  Angola  27.0  27.0  27.0  27.0  27.0  27.0  27.0  27.0   \n",
      "2                 Albania  35.4  35.4  35.4  35.4  35.4  35.4  35.4  35.4   \n",
      "3                 Andorra   NaN   NaN   NaN   NaN   NaN   NaN   NaN   NaN   \n",
      "4    United Arab Emirates  30.7  30.7  30.7  30.7  30.7  30.7  30.7  30.7   \n",
      "..                    ...   ...   ...   ...   ...   ...   ...   ...   ...   \n",
      "190                 Samoa  25.4  25.4  25.4  25.4  25.4  25.4  25.4  25.4   \n",
      "191                 Yemen  23.4  23.4  23.4  23.4  23.4  23.4  23.4  23.4   \n",
      "192          South Africa  33.5  33.5  33.5  33.5  33.5  33.5  33.5  33.5   \n",
      "193                Zambia  32.6  32.6  32.6  32.6  32.6  32.6  32.6  32.6   \n",
      "194              Zimbabwe  33.7  33.7  33.7  33.7  33.7  33.7  33.7  33.7   \n",
      "\n",
      "     1808  ...  2091  2092  2093  2094  2095  2096  2097  2098  2099  2100  \n",
      "0    28.1  ...  75.5  75.7  75.8  76.0  76.1  76.2  76.4  76.5  76.6  76.8  \n",
      "1    27.0  ...  78.8  79.0  79.1  79.2  79.3  79.5  79.6  79.7  79.9  80.0  \n",
      "2    35.4  ...  87.4  87.5  87.6  87.7  87.8  87.9  88.0  88.2  88.3  88.4  \n",
      "3     NaN  ...   NaN   NaN   NaN   NaN   NaN   NaN   NaN   NaN   NaN   NaN  \n",
      "4    30.7  ...  82.4  82.5  82.6  82.7  82.8  82.9  83.0  83.1  83.2  83.3  \n",
      "..    ...  ...   ...   ...   ...   ...   ...   ...   ...   ...   ...   ...  \n",
      "190  25.4  ...  79.8  79.9  80.0  80.1  80.3  80.4  80.5  80.6  80.7  80.8  \n",
      "191  23.4  ...  76.9  77.0  77.1  77.3  77.4  77.5  77.6  77.8  77.9  78.0  \n",
      "192  33.5  ...  76.4  76.5  76.7  76.8  77.0  77.1  77.3  77.4  77.5  77.7  \n",
      "193  32.6  ...  75.8  76.0  76.1  76.3  76.4  76.5  76.7  76.8  77.0  77.1  \n",
      "194  33.7  ...  73.3  73.4  73.5  73.7  73.8  73.9  74.0  74.2  74.3  74.4  \n",
      "\n",
      "[195 rows x 302 columns]\n",
      "                  country  1800  1801  1802  1803  1804  1805  1806  1807  \\\n",
      "0                   Aruba  5.64  5.64  5.64  5.64  5.64  5.64  5.64  5.64   \n",
      "1             Afghanistan  7.00  7.00  7.00  7.00  7.00  7.00  7.00  7.00   \n",
      "2                  Angola  6.93  6.93  6.93  6.93  6.93  6.93  6.93  6.94   \n",
      "3                 Albania  4.60  4.60  4.60  4.60  4.60  4.60  4.60  4.60   \n",
      "4    Netherlands Antilles  5.80  5.80  5.80  5.80  5.80  5.80  5.80  5.80   \n",
      "..                    ...   ...   ...   ...   ...   ...   ...   ...   ...   \n",
      "197                 Samoa  6.98  6.98  6.98  6.98  6.98  6.98  6.98  6.98   \n",
      "198                 Yemen  6.88  6.88  6.88  6.88  6.88  6.88  6.88  6.88   \n",
      "199          South Africa  6.47  6.47  6.47  6.47  6.47  6.47  6.47  6.47   \n",
      "200                Zambia  6.71  6.71  6.71  6.71  6.71  6.71  6.71  6.71   \n",
      "201              Zimbabwe  6.75  6.75  6.75  6.75  6.75  6.75  6.75  6.75   \n",
      "\n",
      "     1808  ...  2091  2092  2093  2094  2095  2096  2097  2098  2099  2100  \n",
      "0    5.64  ...  1.82  1.82  1.82  1.82  1.82  1.82  1.82  1.82  1.83  1.83  \n",
      "1    7.00  ...  1.74  1.74  1.74  1.74  1.74  1.74  1.74  1.74  1.74  1.74  \n",
      "2    6.94  ...  2.54  2.52  2.50  2.48  2.47  2.45  2.43  2.42  2.40  2.40  \n",
      "3    4.60  ...  1.78  1.78  1.78  1.79  1.79  1.79  1.79  1.79  1.79  1.79  \n",
      "4    5.80  ...  2.00  2.00  2.01  2.01  2.01  2.01  2.01  2.02  2.02  2.02  \n",
      "..    ...  ...   ...   ...   ...   ...   ...   ...   ...   ...   ...   ...  \n",
      "197  6.98  ...  2.10  2.09  2.08  2.07  2.06  2.05  2.04  2.03  2.02  2.02  \n",
      "198  6.88  ...  1.68  1.68  1.69  1.69  1.69  1.69  1.70  1.70  1.70  1.70  \n",
      "199  6.47  ...  1.80  1.80  1.80  1.80  1.80  1.80  1.80  1.80  1.80  1.80  \n",
      "200  6.71  ...  2.59  2.57  2.56  2.54  2.53  2.51  2.50  2.48  2.46  2.46  \n",
      "201  6.75  ...  1.85  1.85  1.85  1.84  1.84  1.84  1.83  1.83  1.83  1.83  \n",
      "\n",
      "[202 rows x 302 columns]\n",
      "                  country   1800   1801   1802   1803   1804   1805   1806  \\\n",
      "0             Afghanistan  3.28M  3.28M  3.28M  3.28M  3.28M  3.28M  3.28M   \n",
      "1                  Angola  1.57M  1.57M  1.57M  1.57M  1.57M  1.57M  1.57M   \n",
      "2                 Albania   400k   402k   404k   405k   407k   409k   411k   \n",
      "3                 Andorra   2650   2650   2650   2650   2650   2650   2650   \n",
      "4    United Arab Emirates  40.2k  40.2k  40.2k  40.2k  40.2k  40.2k  40.2k   \n",
      "..                    ...    ...    ...    ...    ...    ...    ...    ...   \n",
      "192                 Samoa  47.3k  47.3k  47.3k  47.3k  47.3k  47.3k  47.3k   \n",
      "193                 Yemen  2.59M  2.59M  2.59M  2.59M  2.59M  2.59M  2.59M   \n",
      "194          South Africa  1.45M  1.45M  1.46M  1.46M  1.47M  1.47M  1.48M   \n",
      "195                Zambia   747k   758k   770k   782k   794k   806k   818k   \n",
      "196              Zimbabwe  1.09M  1.09M  1.09M  1.09M  1.09M  1.09M  1.09M   \n",
      "\n",
      "      1807   1808  ...   2091   2092   2093   2094   2095   2096   2097  \\\n",
      "0    3.28M  3.28M  ...  76.6M  76.4M  76.3M  76.1M    76M  75.8M  75.6M   \n",
      "1    1.57M  1.57M  ...   168M   170M   172M   175M   177M   179M   182M   \n",
      "2     413k   414k  ...  1.33M   1.3M  1.27M  1.25M  1.22M  1.19M  1.17M   \n",
      "3     2650   2650  ...    63k  62.9k  62.9k  62.8k  62.7k  62.7k  62.6k   \n",
      "4    40.2k  40.2k  ...  12.3M  12.4M  12.5M  12.5M  12.6M  12.7M  12.7M   \n",
      "..     ...    ...  ...    ...    ...    ...    ...    ...    ...    ...   \n",
      "192  47.2k  47.2k  ...   315k   314k   314k   314k   313k   313k   312k   \n",
      "193  2.59M  2.59M  ...  54.5M  54.4M  54.3M  54.1M    54M  53.8M  53.7M   \n",
      "194  1.49M  1.49M  ...  79.8M  79.8M  79.7M  79.7M  79.6M  79.5M  79.5M   \n",
      "195   831k   843k  ...  74.4M  75.2M    76M  76.8M  77.6M  78.4M  79.2M   \n",
      "196  1.09M  1.09M  ...  30.8M  30.9M  30.9M  30.9M  30.9M  30.9M    31M   \n",
      "\n",
      "      2098   2099   2100  \n",
      "0    75.4M  75.2M  74.9M  \n",
      "1     184M   186M   188M  \n",
      "2    1.14M  1.11M  1.09M  \n",
      "3    62.5k  62.5k  62.4k  \n",
      "4    12.8M  12.8M  12.9M  \n",
      "..     ...    ...    ...  \n",
      "192   312k   311k   310k  \n",
      "193  53.5M  53.4M  53.2M  \n",
      "194  79.4M  79.3M  79.2M  \n",
      "195    80M  80.8M  81.5M  \n",
      "196    31M    31M    31M  \n",
      "\n",
      "[197 rows x 302 columns]\n"
     ]
    }
   ],
   "source": [
    "# Read data into DataFrame\n",
    "expectancy = pd.read_csv('Data/life_expectancy_years.csv')\n",
    "fertility = pd.read_csv('Data/children_per_woman_total_fertility.csv')\n",
    "population = pd.read_csv('Data/population_total.csv')\n",
    "\n",
    "# Display DataFrames\n",
    "print(expectancy)\n",
    "print(fertility)\n",
    "print(population)"
   ]
  },
  {
   "cell_type": "code",
   "execution_count": 111,
   "id": "05539a6c",
   "metadata": {},
   "outputs": [
    {
     "name": "stdout",
     "output_type": "stream",
     "text": [
      "Index(['country', '1800', '1801', '1802', '1803', '1804', '1805', '1806',\n",
      "       '1807', '1808',\n",
      "       ...\n",
      "       '2091', '2092', '2093', '2094', '2095', '2096', '2097', '2098', '2099',\n",
      "       '2100'],\n",
      "      dtype='object', length=302)\n",
      "Index(['country', '1800', '1801', '1802', '1803', '1804', '1805', '1806',\n",
      "       '1807', '1808',\n",
      "       ...\n",
      "       '2091', '2092', '2093', '2094', '2095', '2096', '2097', '2098', '2099',\n",
      "       '2100'],\n",
      "      dtype='object', length=302)\n",
      "Index(['country', '1800', '1801', '1802', '1803', '1804', '1805', '1806',\n",
      "       '1807', '1808',\n",
      "       ...\n",
      "       '2091', '2092', '2093', '2094', '2095', '2096', '2097', '2098', '2099',\n",
      "       '2100'],\n",
      "      dtype='object', length=302)\n"
     ]
    }
   ],
   "source": [
    "# Check if column index consists of strings or integers\n",
    "print(expectancy.columns)\n",
    "print(fertility.columns)\n",
    "print(population.columns)"
   ]
  },
  {
   "cell_type": "markdown",
   "id": "a2c41ac3",
   "metadata": {},
   "source": [
    "### Step 3\n",
    "Choose fertility and life expectancy for the year 2015 and put them into a single table."
   ]
  },
  {
   "cell_type": "code",
   "execution_count": 112,
   "id": "ee75a87e",
   "metadata": {},
   "outputs": [
    {
     "data": {
      "text/html": [
       "<div>\n",
       "<style scoped>\n",
       "    .dataframe tbody tr th:only-of-type {\n",
       "        vertical-align: middle;\n",
       "    }\n",
       "\n",
       "    .dataframe tbody tr th {\n",
       "        vertical-align: top;\n",
       "    }\n",
       "\n",
       "    .dataframe thead th {\n",
       "        text-align: right;\n",
       "    }\n",
       "</style>\n",
       "<table border=\"1\" class=\"dataframe\">\n",
       "  <thead>\n",
       "    <tr style=\"text-align: right;\">\n",
       "      <th></th>\n",
       "      <th>fertility</th>\n",
       "      <th>expectancy</th>\n",
       "    </tr>\n",
       "  </thead>\n",
       "  <tbody>\n",
       "    <tr>\n",
       "      <th>0</th>\n",
       "      <td>1.76</td>\n",
       "      <td>61.9</td>\n",
       "    </tr>\n",
       "    <tr>\n",
       "      <th>1</th>\n",
       "      <td>4.80</td>\n",
       "      <td>63.5</td>\n",
       "    </tr>\n",
       "    <tr>\n",
       "      <th>2</th>\n",
       "      <td>5.77</td>\n",
       "      <td>78.1</td>\n",
       "    </tr>\n",
       "    <tr>\n",
       "      <th>3</th>\n",
       "      <td>1.71</td>\n",
       "      <td>82.0</td>\n",
       "    </tr>\n",
       "    <tr>\n",
       "      <th>4</th>\n",
       "      <td>1.87</td>\n",
       "      <td>73.2</td>\n",
       "    </tr>\n",
       "    <tr>\n",
       "      <th>...</th>\n",
       "      <td>...</td>\n",
       "      <td>...</td>\n",
       "    </tr>\n",
       "    <tr>\n",
       "      <th>197</th>\n",
       "      <td>4.03</td>\n",
       "      <td>NaN</td>\n",
       "    </tr>\n",
       "    <tr>\n",
       "      <th>198</th>\n",
       "      <td>4.10</td>\n",
       "      <td>NaN</td>\n",
       "    </tr>\n",
       "    <tr>\n",
       "      <th>199</th>\n",
       "      <td>2.49</td>\n",
       "      <td>NaN</td>\n",
       "    </tr>\n",
       "    <tr>\n",
       "      <th>200</th>\n",
       "      <td>5.04</td>\n",
       "      <td>NaN</td>\n",
       "    </tr>\n",
       "    <tr>\n",
       "      <th>201</th>\n",
       "      <td>3.84</td>\n",
       "      <td>NaN</td>\n",
       "    </tr>\n",
       "  </tbody>\n",
       "</table>\n",
       "<p>202 rows × 2 columns</p>\n",
       "</div>"
      ],
      "text/plain": [
       "     fertility  expectancy\n",
       "0         1.76        61.9\n",
       "1         4.80        63.5\n",
       "2         5.77        78.1\n",
       "3         1.71        82.0\n",
       "4         1.87        73.2\n",
       "..         ...         ...\n",
       "197       4.03         NaN\n",
       "198       4.10         NaN\n",
       "199       2.49         NaN\n",
       "200       5.04         NaN\n",
       "201       3.84         NaN\n",
       "\n",
       "[202 rows x 2 columns]"
      ]
     },
     "execution_count": 112,
     "metadata": {},
     "output_type": "execute_result"
    }
   ],
   "source": [
    "# Add fertility rate and life expectancy for year 2015 into single table\n",
    "df = pd.concat((fertility['2015'].rename('fertility'), expectancy['2015'].rename('expectancy')), axis=1)\n",
    "df"
   ]
  },
  {
   "cell_type": "markdown",
   "id": "2b462713",
   "metadata": {},
   "source": [
    "### Step 4\n",
    "Remove all rows with missing values."
   ]
  },
  {
   "cell_type": "code",
   "execution_count": 113,
   "id": "fdab1c09",
   "metadata": {},
   "outputs": [
    {
     "data": {
      "text/html": [
       "<div>\n",
       "<style scoped>\n",
       "    .dataframe tbody tr th:only-of-type {\n",
       "        vertical-align: middle;\n",
       "    }\n",
       "\n",
       "    .dataframe tbody tr th {\n",
       "        vertical-align: top;\n",
       "    }\n",
       "\n",
       "    .dataframe thead th {\n",
       "        text-align: right;\n",
       "    }\n",
       "</style>\n",
       "<table border=\"1\" class=\"dataframe\">\n",
       "  <thead>\n",
       "    <tr style=\"text-align: right;\">\n",
       "      <th></th>\n",
       "      <th>fertility</th>\n",
       "      <th>expectancy</th>\n",
       "    </tr>\n",
       "  </thead>\n",
       "  <tbody>\n",
       "    <tr>\n",
       "      <th>0</th>\n",
       "      <td>1.76</td>\n",
       "      <td>61.9</td>\n",
       "    </tr>\n",
       "    <tr>\n",
       "      <th>1</th>\n",
       "      <td>4.80</td>\n",
       "      <td>63.5</td>\n",
       "    </tr>\n",
       "    <tr>\n",
       "      <th>2</th>\n",
       "      <td>5.77</td>\n",
       "      <td>78.1</td>\n",
       "    </tr>\n",
       "    <tr>\n",
       "      <th>3</th>\n",
       "      <td>1.71</td>\n",
       "      <td>82.0</td>\n",
       "    </tr>\n",
       "    <tr>\n",
       "      <th>4</th>\n",
       "      <td>1.87</td>\n",
       "      <td>73.2</td>\n",
       "    </tr>\n",
       "    <tr>\n",
       "      <th>...</th>\n",
       "      <td>...</td>\n",
       "      <td>...</td>\n",
       "    </tr>\n",
       "    <tr>\n",
       "      <th>190</th>\n",
       "      <td>1.93</td>\n",
       "      <td>70.1</td>\n",
       "    </tr>\n",
       "    <tr>\n",
       "      <th>191</th>\n",
       "      <td>2.31</td>\n",
       "      <td>68.2</td>\n",
       "    </tr>\n",
       "    <tr>\n",
       "      <th>192</th>\n",
       "      <td>1.95</td>\n",
       "      <td>62.3</td>\n",
       "    </tr>\n",
       "    <tr>\n",
       "      <th>193</th>\n",
       "      <td>2.34</td>\n",
       "      <td>60.8</td>\n",
       "    </tr>\n",
       "    <tr>\n",
       "      <th>194</th>\n",
       "      <td>2.24</td>\n",
       "      <td>58.6</td>\n",
       "    </tr>\n",
       "  </tbody>\n",
       "</table>\n",
       "<p>194 rows × 2 columns</p>\n",
       "</div>"
      ],
      "text/plain": [
       "     fertility  expectancy\n",
       "0         1.76        61.9\n",
       "1         4.80        63.5\n",
       "2         5.77        78.1\n",
       "3         1.71        82.0\n",
       "4         1.87        73.2\n",
       "..         ...         ...\n",
       "190       1.93        70.1\n",
       "191       2.31        68.2\n",
       "192       1.95        62.3\n",
       "193       2.34        60.8\n",
       "194       2.24        58.6\n",
       "\n",
       "[194 rows x 2 columns]"
      ]
     },
     "execution_count": 113,
     "metadata": {},
     "output_type": "execute_result"
    }
   ],
   "source": [
    "# Remove rows with missing values\n",
    "df.dropna()"
   ]
  },
  {
   "cell_type": "markdown",
   "id": "4faaaa40",
   "metadata": {},
   "source": [
    "### Step 5\n",
    "Draw a scatterplot of fertility over life expectancy in 2015."
   ]
  },
  {
   "cell_type": "code",
   "execution_count": 127,
   "id": "3e3cc6c9",
   "metadata": {},
   "outputs": [
    {
     "data": {
      "text/plain": [
       "(1.0, 8.0)"
      ]
     },
     "execution_count": 127,
     "metadata": {},
     "output_type": "execute_result"
    },
    {
     "data": {
      "image/png": "[encoded data removed]",
      "text/plain": [
       "<Figure size 432x288 with 1 Axes>"
      ]
     },
     "metadata": {
      "needs_background": "light"
     },
     "output_type": "display_data"
    }
   ],
   "source": [
    "# Plot scatterplot of fertility over life expectancy in 2015\n",
    "plot = sns.regplot(x=df[\"fertility\"], y=df[\"expectancy\"]).set(title = 'Fertility rate over life expectancy in 2015')\n",
    "plt.ylim(35, 85)\n",
    "plt.xlim(1,8)"
   ]
  },
  {
   "cell_type": "markdown",
   "id": "34a732f5",
   "metadata": {},
   "source": [
    "### Step 6\n",
    "Repeat steps 3-5 for the year 1960. What differences do you observe?\n",
    "\n",
    "Ideally, format the axes of both plots so that they are the same. This can be done (e.g. with plt.axes([left, bottom, width, height]))."
   ]
  },
  {
   "cell_type": "code",
   "execution_count": 120,
   "id": "bf4929d7",
   "metadata": {},
   "outputs": [
    {
     "data": {
      "text/html": [
       "<div>\n",
       "<style scoped>\n",
       "    .dataframe tbody tr th:only-of-type {\n",
       "        vertical-align: middle;\n",
       "    }\n",
       "\n",
       "    .dataframe tbody tr th {\n",
       "        vertical-align: top;\n",
       "    }\n",
       "\n",
       "    .dataframe thead th {\n",
       "        text-align: right;\n",
       "    }\n",
       "</style>\n",
       "<table border=\"1\" class=\"dataframe\">\n",
       "  <thead>\n",
       "    <tr style=\"text-align: right;\">\n",
       "      <th></th>\n",
       "      <th>fertility</th>\n",
       "      <th>expectancy</th>\n",
       "    </tr>\n",
       "  </thead>\n",
       "  <tbody>\n",
       "    <tr>\n",
       "      <th>0</th>\n",
       "      <td>4.82</td>\n",
       "      <td>45.0</td>\n",
       "    </tr>\n",
       "    <tr>\n",
       "      <th>1</th>\n",
       "      <td>7.45</td>\n",
       "      <td>46.3</td>\n",
       "    </tr>\n",
       "    <tr>\n",
       "      <th>2</th>\n",
       "      <td>7.48</td>\n",
       "      <td>62.5</td>\n",
       "    </tr>\n",
       "    <tr>\n",
       "      <th>3</th>\n",
       "      <td>6.49</td>\n",
       "      <td>75.7</td>\n",
       "    </tr>\n",
       "    <tr>\n",
       "      <th>4</th>\n",
       "      <td>4.82</td>\n",
       "      <td>60.3</td>\n",
       "    </tr>\n",
       "    <tr>\n",
       "      <th>...</th>\n",
       "      <td>...</td>\n",
       "      <td>...</td>\n",
       "    </tr>\n",
       "    <tr>\n",
       "      <th>197</th>\n",
       "      <td>7.65</td>\n",
       "      <td>NaN</td>\n",
       "    </tr>\n",
       "    <tr>\n",
       "      <th>198</th>\n",
       "      <td>7.49</td>\n",
       "      <td>NaN</td>\n",
       "    </tr>\n",
       "    <tr>\n",
       "      <th>199</th>\n",
       "      <td>6.17</td>\n",
       "      <td>NaN</td>\n",
       "    </tr>\n",
       "    <tr>\n",
       "      <th>200</th>\n",
       "      <td>7.12</td>\n",
       "      <td>NaN</td>\n",
       "    </tr>\n",
       "    <tr>\n",
       "      <th>201</th>\n",
       "      <td>7.16</td>\n",
       "      <td>NaN</td>\n",
       "    </tr>\n",
       "  </tbody>\n",
       "</table>\n",
       "<p>202 rows × 2 columns</p>\n",
       "</div>"
      ],
      "text/plain": [
       "     fertility  expectancy\n",
       "0         4.82        45.0\n",
       "1         7.45        46.3\n",
       "2         7.48        62.5\n",
       "3         6.49        75.7\n",
       "4         4.82        60.3\n",
       "..         ...         ...\n",
       "197       7.65         NaN\n",
       "198       7.49         NaN\n",
       "199       6.17         NaN\n",
       "200       7.12         NaN\n",
       "201       7.16         NaN\n",
       "\n",
       "[202 rows x 2 columns]"
      ]
     },
     "execution_count": 120,
     "metadata": {},
     "output_type": "execute_result"
    }
   ],
   "source": [
    "# Add fertility rate and life expectancy for year 1960 into single table\n",
    "df2 = pd.concat((fertility['1960'].rename('fertility'), expectancy['1960'].rename('expectancy')), axis=1)\n",
    "df2"
   ]
  },
  {
   "cell_type": "code",
   "execution_count": 121,
   "id": "425d6034",
   "metadata": {},
   "outputs": [
    {
     "data": {
      "text/html": [
       "<div>\n",
       "<style scoped>\n",
       "    .dataframe tbody tr th:only-of-type {\n",
       "        vertical-align: middle;\n",
       "    }\n",
       "\n",
       "    .dataframe tbody tr th {\n",
       "        vertical-align: top;\n",
       "    }\n",
       "\n",
       "    .dataframe thead th {\n",
       "        text-align: right;\n",
       "    }\n",
       "</style>\n",
       "<table border=\"1\" class=\"dataframe\">\n",
       "  <thead>\n",
       "    <tr style=\"text-align: right;\">\n",
       "      <th></th>\n",
       "      <th>fertility</th>\n",
       "      <th>expectancy</th>\n",
       "    </tr>\n",
       "  </thead>\n",
       "  <tbody>\n",
       "    <tr>\n",
       "      <th>0</th>\n",
       "      <td>4.82</td>\n",
       "      <td>45.0</td>\n",
       "    </tr>\n",
       "    <tr>\n",
       "      <th>1</th>\n",
       "      <td>7.45</td>\n",
       "      <td>46.3</td>\n",
       "    </tr>\n",
       "    <tr>\n",
       "      <th>2</th>\n",
       "      <td>7.48</td>\n",
       "      <td>62.5</td>\n",
       "    </tr>\n",
       "    <tr>\n",
       "      <th>3</th>\n",
       "      <td>6.49</td>\n",
       "      <td>75.7</td>\n",
       "    </tr>\n",
       "    <tr>\n",
       "      <th>4</th>\n",
       "      <td>4.82</td>\n",
       "      <td>60.3</td>\n",
       "    </tr>\n",
       "    <tr>\n",
       "      <th>...</th>\n",
       "      <td>...</td>\n",
       "      <td>...</td>\n",
       "    </tr>\n",
       "    <tr>\n",
       "      <th>190</th>\n",
       "      <td>3.67</td>\n",
       "      <td>60.7</td>\n",
       "    </tr>\n",
       "    <tr>\n",
       "      <th>191</th>\n",
       "      <td>6.26</td>\n",
       "      <td>36.5</td>\n",
       "    </tr>\n",
       "    <tr>\n",
       "      <th>192</th>\n",
       "      <td>7.22</td>\n",
       "      <td>53.9</td>\n",
       "    </tr>\n",
       "    <tr>\n",
       "      <th>193</th>\n",
       "      <td>6.62</td>\n",
       "      <td>49.6</td>\n",
       "    </tr>\n",
       "    <tr>\n",
       "      <th>194</th>\n",
       "      <td>5.62</td>\n",
       "      <td>55.5</td>\n",
       "    </tr>\n",
       "  </tbody>\n",
       "</table>\n",
       "<p>195 rows × 2 columns</p>\n",
       "</div>"
      ],
      "text/plain": [
       "     fertility  expectancy\n",
       "0         4.82        45.0\n",
       "1         7.45        46.3\n",
       "2         7.48        62.5\n",
       "3         6.49        75.7\n",
       "4         4.82        60.3\n",
       "..         ...         ...\n",
       "190       3.67        60.7\n",
       "191       6.26        36.5\n",
       "192       7.22        53.9\n",
       "193       6.62        49.6\n",
       "194       5.62        55.5\n",
       "\n",
       "[195 rows x 2 columns]"
      ]
     },
     "execution_count": 121,
     "metadata": {},
     "output_type": "execute_result"
    }
   ],
   "source": [
    "# Remove rows with missing values\n",
    "df2.dropna()"
   ]
  },
  {
   "cell_type": "code",
   "execution_count": 128,
   "id": "977270ed",
   "metadata": {},
   "outputs": [
    {
     "data": {
      "text/plain": [
       "(1.0, 8.0)"
      ]
     },
     "execution_count": 128,
     "metadata": {},
     "output_type": "execute_result"
    },
    {
     "data": {
      "image/png": "[encoded data removed]",
      "text/plain": [
       "<Figure size 432x288 with 1 Axes>"
      ]
     },
     "metadata": {
      "needs_background": "light"
     },
     "output_type": "display_data"
    }
   ],
   "source": [
    "# Plot scatterplot of fertility over life expectancy in 1960\n",
    "sns.regplot(x=df2[\"fertility\"], y=df2[\"expectancy\"]).set(title = 'Fertility rate over life expectancy in 1960')\n",
    "plt.ylim(35, 85)\n",
    "plt.xlim(1,8)"
   ]
  },
  {
   "cell_type": "markdown",
   "id": "161fe2f7",
   "metadata": {},
   "source": [
    "The fertility rate was much higher in 1960 (mostly around 6-7) while the life expectancy was lower (mostly under 60 years). On the other hand in 2015, the fertility rate is mostly between 1-3, and the life expectancy is mostly 70 years and older. "
   ]
  },
  {
   "cell_type": "markdown",
   "id": "a0f41d0d",
   "metadata": {},
   "source": [
    "### Step 7\n",
    "Write a function that allows you to draw a scatterplot for any given year."
   ]
  },
  {
   "cell_type": "code",
   "execution_count": 138,
   "id": "ef172147",
   "metadata": {},
   "outputs": [
    {
     "data": {
      "image/png": "[encoded data removed]",
      "text/plain": [
       "<Figure size 432x288 with 1 Axes>"
      ]
     },
     "metadata": {
      "needs_background": "light"
     },
     "output_type": "display_data"
    }
   ],
   "source": [
    "# Function that allows you to draw a scatterplot for any given year\n",
    "def plot(year):\n",
    "    df3 = pd.DataFrame({'Country': fertility['country'], 'Fertility': fertility[year], 'Expectancy': expectancy[year]})\n",
    "    df3 = df3.dropna()\n",
    "    sns.regplot(x=df3[\"Fertility\"], y=df3[\"Expectancy\"]).set(title = f'Fertility rate over life expectancy in {year}')\n",
    "\n",
    "# Plot fertility rate over life expectancy for year 2022 using the function\n",
    "plot('2022')"
   ]
  },
  {
   "cell_type": "markdown",
   "id": "d818e3b2",
   "metadata": {},
   "source": [
    "### Step 8\n",
    "Create one scatterplot for each year from 1960 to 2010 and write it to a file."
   ]
  },
  {
   "cell_type": "code",
   "execution_count": 145,
   "id": "60d4f564",
   "metadata": {},
   "outputs": [
    {
     "data": {
      "image/png": "[encoded data removed]",
      "text/plain": [
       "<Figure size 432x288 with 1 Axes>"
      ]
     },
     "metadata": {
      "needs_background": "light"
     },
     "output_type": "display_data"
    }
   ],
   "source": [
    "# Create one scatterplot for each year from 1960 to 2010 and write it to a file.\n",
    "for year in range(1960, 2011):\n",
    "    plot(f'{year}')\n",
    "    plt.savefig(f'{year}.png')"
   ]
  },
  {
   "cell_type": "markdown",
   "id": "2eee61c4",
   "metadata": {},
   "source": [
    "### Step 9\n",
    "Connect the scatterplots to an animation."
   ]
  },
  {
   "cell_type": "code",
   "execution_count": 148,
   "id": "3fc08bef",
   "metadata": {},
   "outputs": [],
   "source": [
    "import imageio\n",
    "\n",
    "plots = [\n",
    "    imageio.imread(f'{year}.png')\n",
    "    for year in range(1960, 2011)\n",
    "]\n",
    "\n",
    "imageio.mimsave('animation.gif', plots, fps=20)"
   ]
  },
  {
   "cell_type": "markdown",
   "id": "906eda61",
   "metadata": {},
   "source": [
    "### Step 10\n",
    "Also read the population file. Because the population is written like 500k or 20M, you need a conversion function that converts a single value."
   ]
  },
  {
   "cell_type": "code",
   "execution_count": 215,
   "id": "d7efb92f",
   "metadata": {},
   "outputs": [
    {
     "ename": "AttributeError",
     "evalue": "'DataFrame' object has no attribute 'endswith'",
     "output_type": "error",
     "traceback": [
      "\u001b[1;31m---------------------------------------------------------------------------\u001b[0m",
      "\u001b[1;31mAttributeError\u001b[0m                            Traceback (most recent call last)",
      "\u001b[1;32m~\\AppData\\Local\\Temp/ipykernel_21964/3217528562.py\u001b[0m in \u001b[0;36m<module>\u001b[1;34m\u001b[0m\n\u001b[0;32m      6\u001b[0m         \u001b[1;32mreturn\u001b[0m \u001b[0mint\u001b[0m\u001b[1;33m(\u001b[0m\u001b[0mpop\u001b[0m\u001b[1;33m[\u001b[0m\u001b[1;33m:\u001b[0m\u001b[1;33m-\u001b[0m\u001b[1;36m1\u001b[0m\u001b[1;33m]\u001b[0m\u001b[1;33m)\u001b[0m \u001b[1;33m*\u001b[0m \u001b[1;36m1000000\u001b[0m\u001b[1;33m\u001b[0m\u001b[1;33m\u001b[0m\u001b[0m\n\u001b[0;32m      7\u001b[0m \u001b[1;31m# Convert the entire DataFrame\u001b[0m\u001b[1;33m\u001b[0m\u001b[1;33m\u001b[0m\u001b[0m\n\u001b[1;32m----> 8\u001b[1;33m \u001b[0mpopulation\u001b[0m\u001b[1;33m.\u001b[0m\u001b[0mapply\u001b[0m\u001b[1;33m(\u001b[0m\u001b[0mpop_convert\u001b[0m\u001b[1;33m)\u001b[0m\u001b[1;33m\u001b[0m\u001b[1;33m\u001b[0m\u001b[0m\n\u001b[0m",
      "\u001b[1;32m~\\anaconda3\\lib\\site-packages\\pandas\\core\\frame.py\u001b[0m in \u001b[0;36mapply\u001b[1;34m(self, func, axis, raw, result_type, args, **kwargs)\u001b[0m\n\u001b[0;32m   8738\u001b[0m             \u001b[0mkwargs\u001b[0m\u001b[1;33m=\u001b[0m\u001b[0mkwargs\u001b[0m\u001b[1;33m,\u001b[0m\u001b[1;33m\u001b[0m\u001b[1;33m\u001b[0m\u001b[0m\n\u001b[0;32m   8739\u001b[0m         )\n\u001b[1;32m-> 8740\u001b[1;33m         \u001b[1;32mreturn\u001b[0m \u001b[0mop\u001b[0m\u001b[1;33m.\u001b[0m\u001b[0mapply\u001b[0m\u001b[1;33m(\u001b[0m\u001b[1;33m)\u001b[0m\u001b[1;33m\u001b[0m\u001b[1;33m\u001b[0m\u001b[0m\n\u001b[0m\u001b[0;32m   8741\u001b[0m \u001b[1;33m\u001b[0m\u001b[0m\n\u001b[0;32m   8742\u001b[0m     def applymap(\n",
      "\u001b[1;32m~\\anaconda3\\lib\\site-packages\\pandas\\core\\apply.py\u001b[0m in \u001b[0;36mapply\u001b[1;34m(self)\u001b[0m\n\u001b[0;32m    686\u001b[0m             \u001b[1;32mreturn\u001b[0m \u001b[0mself\u001b[0m\u001b[1;33m.\u001b[0m\u001b[0mapply_raw\u001b[0m\u001b[1;33m(\u001b[0m\u001b[1;33m)\u001b[0m\u001b[1;33m\u001b[0m\u001b[1;33m\u001b[0m\u001b[0m\n\u001b[0;32m    687\u001b[0m \u001b[1;33m\u001b[0m\u001b[0m\n\u001b[1;32m--> 688\u001b[1;33m         \u001b[1;32mreturn\u001b[0m \u001b[0mself\u001b[0m\u001b[1;33m.\u001b[0m\u001b[0mapply_standard\u001b[0m\u001b[1;33m(\u001b[0m\u001b[1;33m)\u001b[0m\u001b[1;33m\u001b[0m\u001b[1;33m\u001b[0m\u001b[0m\n\u001b[0m\u001b[0;32m    689\u001b[0m \u001b[1;33m\u001b[0m\u001b[0m\n\u001b[0;32m    690\u001b[0m     \u001b[1;32mdef\u001b[0m \u001b[0magg\u001b[0m\u001b[1;33m(\u001b[0m\u001b[0mself\u001b[0m\u001b[1;33m)\u001b[0m\u001b[1;33m:\u001b[0m\u001b[1;33m\u001b[0m\u001b[1;33m\u001b[0m\u001b[0m\n",
      "\u001b[1;32m~\\anaconda3\\lib\\site-packages\\pandas\\core\\apply.py\u001b[0m in \u001b[0;36mapply_standard\u001b[1;34m(self)\u001b[0m\n\u001b[0;32m    810\u001b[0m \u001b[1;33m\u001b[0m\u001b[0m\n\u001b[0;32m    811\u001b[0m     \u001b[1;32mdef\u001b[0m \u001b[0mapply_standard\u001b[0m\u001b[1;33m(\u001b[0m\u001b[0mself\u001b[0m\u001b[1;33m)\u001b[0m\u001b[1;33m:\u001b[0m\u001b[1;33m\u001b[0m\u001b[1;33m\u001b[0m\u001b[0m\n\u001b[1;32m--> 812\u001b[1;33m         \u001b[0mresults\u001b[0m\u001b[1;33m,\u001b[0m \u001b[0mres_index\u001b[0m \u001b[1;33m=\u001b[0m \u001b[0mself\u001b[0m\u001b[1;33m.\u001b[0m\u001b[0mapply_series_generator\u001b[0m\u001b[1;33m(\u001b[0m\u001b[1;33m)\u001b[0m\u001b[1;33m\u001b[0m\u001b[1;33m\u001b[0m\u001b[0m\n\u001b[0m\u001b[0;32m    813\u001b[0m \u001b[1;33m\u001b[0m\u001b[0m\n\u001b[0;32m    814\u001b[0m         \u001b[1;31m# wrap results\u001b[0m\u001b[1;33m\u001b[0m\u001b[1;33m\u001b[0m\u001b[0m\n",
      "\u001b[1;32m~\\anaconda3\\lib\\site-packages\\pandas\\core\\apply.py\u001b[0m in \u001b[0;36mapply_series_generator\u001b[1;34m(self)\u001b[0m\n\u001b[0;32m    826\u001b[0m             \u001b[1;32mfor\u001b[0m \u001b[0mi\u001b[0m\u001b[1;33m,\u001b[0m \u001b[0mv\u001b[0m \u001b[1;32min\u001b[0m \u001b[0menumerate\u001b[0m\u001b[1;33m(\u001b[0m\u001b[0mseries_gen\u001b[0m\u001b[1;33m)\u001b[0m\u001b[1;33m:\u001b[0m\u001b[1;33m\u001b[0m\u001b[1;33m\u001b[0m\u001b[0m\n\u001b[0;32m    827\u001b[0m                 \u001b[1;31m# ignore SettingWithCopy here in case the user mutates\u001b[0m\u001b[1;33m\u001b[0m\u001b[1;33m\u001b[0m\u001b[0m\n\u001b[1;32m--> 828\u001b[1;33m                 \u001b[0mresults\u001b[0m\u001b[1;33m[\u001b[0m\u001b[0mi\u001b[0m\u001b[1;33m]\u001b[0m \u001b[1;33m=\u001b[0m \u001b[0mself\u001b[0m\u001b[1;33m.\u001b[0m\u001b[0mf\u001b[0m\u001b[1;33m(\u001b[0m\u001b[0mv\u001b[0m\u001b[1;33m)\u001b[0m\u001b[1;33m\u001b[0m\u001b[1;33m\u001b[0m\u001b[0m\n\u001b[0m\u001b[0;32m    829\u001b[0m                 \u001b[1;32mif\u001b[0m \u001b[0misinstance\u001b[0m\u001b[1;33m(\u001b[0m\u001b[0mresults\u001b[0m\u001b[1;33m[\u001b[0m\u001b[0mi\u001b[0m\u001b[1;33m]\u001b[0m\u001b[1;33m,\u001b[0m \u001b[0mABCSeries\u001b[0m\u001b[1;33m)\u001b[0m\u001b[1;33m:\u001b[0m\u001b[1;33m\u001b[0m\u001b[1;33m\u001b[0m\u001b[0m\n\u001b[0;32m    830\u001b[0m                     \u001b[1;31m# If we have a view on v, we need to make a copy because\u001b[0m\u001b[1;33m\u001b[0m\u001b[1;33m\u001b[0m\u001b[0m\n",
      "\u001b[1;32m~\\AppData\\Local\\Temp/ipykernel_21964/3217528562.py\u001b[0m in \u001b[0;36mpop_convert\u001b[1;34m(x)\u001b[0m\n\u001b[0;32m      1\u001b[0m \u001b[1;31m# Conversion function\u001b[0m\u001b[1;33m\u001b[0m\u001b[1;33m\u001b[0m\u001b[0m\n\u001b[0;32m      2\u001b[0m \u001b[1;32mdef\u001b[0m \u001b[0mpop_convert\u001b[0m\u001b[1;33m(\u001b[0m\u001b[0mx\u001b[0m\u001b[1;33m)\u001b[0m\u001b[1;33m:\u001b[0m\u001b[1;33m\u001b[0m\u001b[1;33m\u001b[0m\u001b[0m\n\u001b[1;32m----> 3\u001b[1;33m     \u001b[1;32mif\u001b[0m \u001b[0mpopulation\u001b[0m\u001b[1;33m.\u001b[0m\u001b[0mendswith\u001b[0m\u001b[1;33m(\u001b[0m\u001b[1;34m'k'\u001b[0m\u001b[1;33m)\u001b[0m\u001b[1;33m:\u001b[0m\u001b[1;33m\u001b[0m\u001b[1;33m\u001b[0m\u001b[0m\n\u001b[0m\u001b[0;32m      4\u001b[0m         \u001b[1;32mreturn\u001b[0m \u001b[0mint\u001b[0m\u001b[1;33m(\u001b[0m\u001b[0mpop\u001b[0m\u001b[1;33m[\u001b[0m\u001b[1;33m:\u001b[0m\u001b[1;33m-\u001b[0m\u001b[1;36m1\u001b[0m\u001b[1;33m]\u001b[0m\u001b[1;33m)\u001b[0m \u001b[1;33m*\u001b[0m \u001b[1;36m1000\u001b[0m\u001b[1;33m\u001b[0m\u001b[1;33m\u001b[0m\u001b[0m\n\u001b[0;32m      5\u001b[0m     \u001b[1;32mif\u001b[0m \u001b[0mpopulation\u001b[0m\u001b[1;33m.\u001b[0m\u001b[0mendswith\u001b[0m\u001b[1;33m(\u001b[0m\u001b[1;34m'M'\u001b[0m\u001b[1;33m)\u001b[0m\u001b[1;33m:\u001b[0m\u001b[1;33m\u001b[0m\u001b[1;33m\u001b[0m\u001b[0m\n",
      "\u001b[1;32m~\\anaconda3\\lib\\site-packages\\pandas\\core\\generic.py\u001b[0m in \u001b[0;36m__getattr__\u001b[1;34m(self, name)\u001b[0m\n\u001b[0;32m   5485\u001b[0m         ):\n\u001b[0;32m   5486\u001b[0m             \u001b[1;32mreturn\u001b[0m \u001b[0mself\u001b[0m\u001b[1;33m[\u001b[0m\u001b[0mname\u001b[0m\u001b[1;33m]\u001b[0m\u001b[1;33m\u001b[0m\u001b[1;33m\u001b[0m\u001b[0m\n\u001b[1;32m-> 5487\u001b[1;33m         \u001b[1;32mreturn\u001b[0m \u001b[0mobject\u001b[0m\u001b[1;33m.\u001b[0m\u001b[0m__getattribute__\u001b[0m\u001b[1;33m(\u001b[0m\u001b[0mself\u001b[0m\u001b[1;33m,\u001b[0m \u001b[0mname\u001b[0m\u001b[1;33m)\u001b[0m\u001b[1;33m\u001b[0m\u001b[1;33m\u001b[0m\u001b[0m\n\u001b[0m\u001b[0;32m   5488\u001b[0m \u001b[1;33m\u001b[0m\u001b[0m\n\u001b[0;32m   5489\u001b[0m     \u001b[1;32mdef\u001b[0m \u001b[0m__setattr__\u001b[0m\u001b[1;33m(\u001b[0m\u001b[0mself\u001b[0m\u001b[1;33m,\u001b[0m \u001b[0mname\u001b[0m\u001b[1;33m:\u001b[0m \u001b[0mstr\u001b[0m\u001b[1;33m,\u001b[0m \u001b[0mvalue\u001b[0m\u001b[1;33m)\u001b[0m \u001b[1;33m->\u001b[0m \u001b[1;32mNone\u001b[0m\u001b[1;33m:\u001b[0m\u001b[1;33m\u001b[0m\u001b[1;33m\u001b[0m\u001b[0m\n",
      "\u001b[1;31mAttributeError\u001b[0m: 'DataFrame' object has no attribute 'endswith'"
     ]
    }
   ],
   "source": [
    "# Conversion function\n",
    "def pop_convert(x):\n",
    "    if population.endswith('k'):\n",
    "        return int(pop[:-1]) * 1000\n",
    "    if population.endswith('M'):\n",
    "        return int(pop[:-1]) * 1000000\n",
    "# Convert the entire DataFrame \n",
    "population.apply(pop_convert)"
   ]
  },
  {
   "cell_type": "markdown",
   "id": "8b9c8cd0",
   "metadata": {},
   "source": [
    "### Step 11\n",
    "Divide the population by 100_000. Use the population to control the size of the bubbles in the scatterplot (df.plot.scatter accepts an argument s of the type pd.Series)."
   ]
  },
  {
   "cell_type": "code",
   "execution_count": null,
   "id": "7620c793",
   "metadata": {},
   "outputs": [],
   "source": []
  },
  {
   "cell_type": "markdown",
   "id": "7eec9035",
   "metadata": {},
   "source": [
    "### Step 12\n",
    "Let's color by continent:\n",
    "\n",
    "- Read a list of country-continent pairs (continents.csv ).\n",
    "\n",
    "- Create an extra continent column.\n",
    "- Ignore countries for which the continent information does not fit (probably because of spelling).\n",
    "- Use the continents to color the scatterplot bubbles by continent.\n",
    "- Hint:\n",
    "In matplotlib, this is very tedious. You may need to convert the continents to integers starting from 0. With seaborn it is a lot easier."
   ]
  },
  {
   "cell_type": "code",
   "execution_count": 219,
   "id": "6cf6f29f",
   "metadata": {},
   "outputs": [
    {
     "data": {
      "text/html": [
       "<div>\n",
       "<style scoped>\n",
       "    .dataframe tbody tr th:only-of-type {\n",
       "        vertical-align: middle;\n",
       "    }\n",
       "\n",
       "    .dataframe tbody tr th {\n",
       "        vertical-align: top;\n",
       "    }\n",
       "\n",
       "    .dataframe thead th {\n",
       "        text-align: right;\n",
       "    }\n",
       "</style>\n",
       "<table border=\"1\" class=\"dataframe\">\n",
       "  <thead>\n",
       "    <tr style=\"text-align: right;\">\n",
       "      <th></th>\n",
       "      <th>continent</th>\n",
       "      <th>country</th>\n",
       "      <th>continent_extra</th>\n",
       "    </tr>\n",
       "  </thead>\n",
       "  <tbody>\n",
       "    <tr>\n",
       "      <th>0</th>\n",
       "      <td>Africa</td>\n",
       "      <td>Algeria</td>\n",
       "      <td>Africa</td>\n",
       "    </tr>\n",
       "    <tr>\n",
       "      <th>1</th>\n",
       "      <td>Africa</td>\n",
       "      <td>Angola</td>\n",
       "      <td>Africa</td>\n",
       "    </tr>\n",
       "    <tr>\n",
       "      <th>2</th>\n",
       "      <td>Africa</td>\n",
       "      <td>Benin</td>\n",
       "      <td>Africa</td>\n",
       "    </tr>\n",
       "    <tr>\n",
       "      <th>3</th>\n",
       "      <td>Africa</td>\n",
       "      <td>Botswana</td>\n",
       "      <td>Africa</td>\n",
       "    </tr>\n",
       "    <tr>\n",
       "      <th>4</th>\n",
       "      <td>Africa</td>\n",
       "      <td>Burkina</td>\n",
       "      <td>Africa</td>\n",
       "    </tr>\n",
       "    <tr>\n",
       "      <th>...</th>\n",
       "      <td>...</td>\n",
       "      <td>...</td>\n",
       "      <td>...</td>\n",
       "    </tr>\n",
       "    <tr>\n",
       "      <th>189</th>\n",
       "      <td>South America</td>\n",
       "      <td>Paraguay</td>\n",
       "      <td>South America</td>\n",
       "    </tr>\n",
       "    <tr>\n",
       "      <th>190</th>\n",
       "      <td>South America</td>\n",
       "      <td>Peru</td>\n",
       "      <td>South America</td>\n",
       "    </tr>\n",
       "    <tr>\n",
       "      <th>191</th>\n",
       "      <td>South America</td>\n",
       "      <td>Suriname</td>\n",
       "      <td>South America</td>\n",
       "    </tr>\n",
       "    <tr>\n",
       "      <th>192</th>\n",
       "      <td>South America</td>\n",
       "      <td>Uruguay</td>\n",
       "      <td>South America</td>\n",
       "    </tr>\n",
       "    <tr>\n",
       "      <th>193</th>\n",
       "      <td>South America</td>\n",
       "      <td>Venezuela</td>\n",
       "      <td>South America</td>\n",
       "    </tr>\n",
       "  </tbody>\n",
       "</table>\n",
       "<p>194 rows × 3 columns</p>\n",
       "</div>"
      ],
      "text/plain": [
       "         continent    country continent_extra\n",
       "0           Africa    Algeria          Africa\n",
       "1           Africa     Angola          Africa\n",
       "2           Africa      Benin          Africa\n",
       "3           Africa   Botswana          Africa\n",
       "4           Africa    Burkina          Africa\n",
       "..             ...        ...             ...\n",
       "189  South America   Paraguay   South America\n",
       "190  South America       Peru   South America\n",
       "191  South America   Suriname   South America\n",
       "192  South America    Uruguay   South America\n",
       "193  South America  Venezuela   South America\n",
       "\n",
       "[194 rows x 3 columns]"
      ]
     },
     "execution_count": 219,
     "metadata": {},
     "output_type": "execute_result"
    }
   ],
   "source": [
    "# Read continents file\n",
    "continents = pd.read_csv('Data/continents.csv', sep=';')\n",
    "\n",
    "# Create and extra continent column\n",
    "continents['continent_extra'] = continents['continent']\n",
    "\n"
   ]
  }
 ],
 "metadata": {
  "kernelspec": {
   "display_name": "Python 3 (ipykernel)",
   "language": "python",
   "name": "python3"
  },
  "language_info": {
   "codemirror_mode": {
    "name": "ipython",
    "version": 3
   },
   "file_extension": ".py",
   "mimetype": "text/x-python",
   "name": "python",
   "nbconvert_exporter": "python",
   "pygments_lexer": "ipython3",
   "version": "3.9.7"
  }
 },
 "nbformat": 4,
 "nbformat_minor": 5
}
